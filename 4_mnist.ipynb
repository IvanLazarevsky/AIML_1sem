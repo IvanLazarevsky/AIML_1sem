{
 "cells": [
  {
   "cell_type": "markdown",
   "metadata": {},
   "source": [
    "# Распознавание цифр. Точность и полнота. "
   ]
  },
  {
   "cell_type": "code",
   "execution_count": 4,
   "metadata": {},
   "outputs": [],
   "source": [
    "%matplotlib inline\n",
    "\n",
    "import matplotlib.pyplot as plt\n",
    "import numpy as np\n",
    "from sklearn import linear_model, svm\n",
    "from sklearn import metrics\n",
    "from sklearn.datasets import fetch_openml\n",
    "from keras import models, layers, utils\n",
    "import os"
   ]
  },
  {
   "cell_type": "markdown",
   "metadata": {},
   "source": [
    "База данных MNIST из рукописных цифр - один из наиболее известных наборов данных. Мы возьмем множество изображений размером 28x28 и соответствующие им номера с ресурса https://www.openml.org/, используя функцию fetch_openml из sklearn. Поскольку API ещё сырое, возникла проблема с кешированием и пришлось делать его вручную (внизу). "
   ]
  },
  {
   "cell_type": "code",
   "execution_count": 7,
   "metadata": {},
   "outputs": [],
   "source": [
    "def load_mnist():\n",
    "    if not os.path.isfile('mnist_X.npy'):\n",
    "        X,y = mnist = fetch_openml('mnist_784', cache=False, return_X_y=True)\n",
    "        np.save('mnist_X',X)\n",
    "        np.save('mnist_y',y)\n",
    "    else:\n",
    "        X = np.load('mnist_X.npy')\n",
    "        y = np.load('mnist_y.npy')\n",
    "    \n",
    "    y = np.array([int(yy) for yy in y]) # метки оказались строковыми, преобразуем эти строки в числа.\n",
    "    return X,y"
   ]
  },
  {
   "cell_type": "code",
   "execution_count": 6,
   "metadata": {},
   "outputs": [],
   "source": [
    "X, y = load_mnist()"
   ]
  },
  {
   "cell_type": "markdown",
   "metadata": {},
   "source": [
    "Всего 70000 цифр, они представлены в виде массивов серых пикселей (числа от 0 до 255) размером 784 (расплющенный 28x28). Набор данных не отсортирован."
   ]
  },
  {
   "cell_type": "code",
   "execution_count": 16,
   "metadata": {},
   "outputs": [
    {
     "name": "stdout",
     "output_type": "stream",
     "text": [
      "(70000, 784) (70000,)\n",
      "[5 0 4 1 9 2 1 3 1 4]\n",
      "[  0.   0.   0.   0. 166.   0. 247.   0. 253.   0.   0.   0.   0. 183.\n",
      "   0. 253.   0. 212.   0.   0.]\n"
     ]
    }
   ],
   "source": [
    "print(X.shape, y.shape)\n",
    "print(y[:10])\n",
    "print(X[0,::40]) # выведем каждый 40й пиксель"
   ]
  },
  {
   "cell_type": "markdown",
   "metadata": {},
   "source": [
    "Matplotlib может отображать такие матрицы пикселей, но желательно указать, что нам нужна черно-белая интерпретация через аргумент cmap."
   ]
  },
  {
   "cell_type": "code",
   "execution_count": 20,
   "metadata": {
    "scrolled": true
   },
   "outputs": [
    {
     "data": {
      "text/plain": [
       "<matplotlib.image.AxesImage at 0x7fe930ae8390>"
      ]
     },
     "execution_count": 20,
     "metadata": {},
     "output_type": "execute_result"
    },
    {
     "data": {
      "image/png": "[encoded data removed]",
      "text/plain": [
       "<Figure size 432x288 with 1 Axes>"
      ]
     },
     "metadata": {},
     "output_type": "display_data"
    }
   ],
   "source": [
    "plt.imshow(X[2].reshape(28,28), cmap=plt.cm.gray_r)"
   ]
  },
  {
   "cell_type": "markdown",
   "metadata": {},
   "source": [
    "В ходе семинара стало понятно, что нормализация изображения в диапазон 0..1 позволяет обеспечить лучшую сходимость некоторых моделей."
   ]
  },
  {
   "cell_type": "code",
   "execution_count": 21,
   "metadata": {},
   "outputs": [],
   "source": [
    "X /= 256"
   ]
  },
  {
   "cell_type": "markdown",
   "metadata": {},
   "source": [
    "Для скорости будем использовать только часть данных. 3000 цифр для тренировки и 500 для проверки."
   ]
  },
  {
   "cell_type": "code",
   "execution_count": 22,
   "metadata": {},
   "outputs": [],
   "source": [
    "X_train, y_train = X[:3000], y[:3000]\n",
    "X_test, y_test = X[3000:3500], y[3000:3500]"
   ]
  },
  {
   "cell_type": "markdown",
   "metadata": {},
   "source": [
    "В качестве первой модели попробуем логистическую регрессию, которая опирается на линейное разделение данных."
   ]
  },
  {
   "cell_type": "code",
   "execution_count": 23,
   "metadata": {},
   "outputs": [
    {
     "name": "stderr",
     "output_type": "stream",
     "text": [
      "/home/ivan/.pyenv/versions/3.6.4/envs/general36/lib/python3.6/site-packages/sklearn/linear_model/logistic.py:432: FutureWarning: Default solver will be changed to 'lbfgs' in 0.22. Specify a solver to silence this warning.\n",
      "  FutureWarning)\n",
      "/home/ivan/.pyenv/versions/3.6.4/envs/general36/lib/python3.6/site-packages/sklearn/linear_model/logistic.py:459: FutureWarning: Default multi_class will be changed to 'auto' in 0.22. Specify the multi_class option to silence this warning.\n",
      "  \"this warning.\", FutureWarning)\n"
     ]
    },
    {
     "name": "stdout",
     "output_type": "stream",
     "text": [
      "[LibLinear]"
     ]
    },
    {
     "data": {
      "text/plain": [
       "LogisticRegression(C=1.0, class_weight=None, dual=False, fit_intercept=True,\n",
       "          intercept_scaling=1, max_iter=100, multi_class='warn',\n",
       "          n_jobs=None, penalty='l2', random_state=None, solver='warn',\n",
       "          tol=0.0001, verbose=1, warm_start=False)"
      ]
     },
     "execution_count": 23,
     "metadata": {},
     "output_type": "execute_result"
    }
   ],
   "source": [
    "log_r = linear_model.LogisticRegression(verbose=1)\n",
    "log_r.fit(X_train, y_train)"
   ]
  },
  {
   "cell_type": "markdown",
   "metadata": {},
   "source": [
    "Пример предсказаний (сверху) и истинных цифр (снизу)"
   ]
  },
  {
   "cell_type": "code",
   "execution_count": 25,
   "metadata": {},
   "outputs": [
    {
     "name": "stdout",
     "output_type": "stream",
     "text": [
      "[9 0 8 8 1 3 2 5 7 4 1 8 6 3 9 0 0 2 4 1]\n",
      "[9 0 8 8 1 3 2 5 7 4 7 8 0 3 8 0 0 2 4 1]\n"
     ]
    }
   ],
   "source": [
    "y_pred = log_r.predict(X_test)\n",
    "print(y_pred[:20])\n",
    "print(y_test[:20])"
   ]
  },
  {
   "cell_type": "markdown",
   "metadata": {},
   "source": [
    "Замерим долю правильных ответов (accuracy) в обучающей выборке."
   ]
  },
  {
   "cell_type": "code",
   "execution_count": 29,
   "metadata": {},
   "outputs": [
    {
     "name": "stdout",
     "output_type": "stream",
     "text": [
      "0.904\n"
     ]
    }
   ],
   "source": [
    "print(metrics.accuracy_score(y_test, y_pred))"
   ]
  },
  {
   "cell_type": "markdown",
   "metadata": {},
   "source": [
    "В общем случая, доля правильных ответов не является надежной метрикой для классификаторов, особенно если речь идёт о несбалансированных наборах данных. Например, если один класс встречается в 99% случаев, а другой в 1%, то классификатор, который всегда назначает первый класс, по этой метрики будет иметь 0.99.\n",
    "\n",
    "Более детальной метрикой является точность (precision) и полнота (recall). Они замеряются отдельно для каждого класса. Введем следующие обозначения: <br>\n",
    "$TP$ (True Positive) ---  количество экземпляров, которым классификатор корректно назначил этот класс.<br>\n",
    "$FP$ (False Positive) --- количество экземпляров, которым классификатор ошибочно назначил этот класс.<br>\n",
    "$TN$ (True Negative) --- количество экземпляров, которым классификатор корректно не назначил этот класс.<br>\n",
    "$FN$ (False Negative) --- количество экземпляров, которым классификатор ошибочно не назначил этот класс.<br>\n",
    "\n",
    "Тогда точность равна пропорции правильных назначений класса к общему числу назначений этого класса:\n",
    "\\begin{equation*}\n",
    "precision = \\frac{TP}{TP + FP}\n",
    "\\end{equation*}\n",
    "Полнота равна пропорции правильных назначений класса к общему числу экземпляров этого класса.\n",
    "\\begin{equation*}\n",
    "recall = \\frac{TP}{TP + FN}\n",
    "\\end{equation*}\n",
    "\n",
    "Точность и полнота активно используются как метрики в поисковых системах. В этом контексте точность - это пропорция релевантных документов в поисковой выдаче, а полнота - это пропорция релевантных, попавших в выдачу, к общему числу релевантных документов.\n",
    "\n",
    "Часто их объединяют в F1-меру - среднее гармоническое этих метрик:\n",
    "\\begin{equation*}\n",
    "F1 = \\frac{2 * precision * recall}{precision + recall}\n",
    "\\end{equation*}"
   ]
  },
  {
   "cell_type": "code",
   "execution_count": 30,
   "metadata": {
    "scrolled": true
   },
   "outputs": [
    {
     "name": "stdout",
     "output_type": "stream",
     "text": [
      "              precision    recall  f1-score   support\n",
      "\n",
      "           0       0.98      0.96      0.97        47\n",
      "           1       0.85      0.98      0.91        52\n",
      "           2       0.90      0.94      0.92        48\n",
      "           3       0.88      0.88      0.88        51\n",
      "           4       0.95      0.93      0.94        61\n",
      "           5       0.84      0.86      0.85        36\n",
      "           6       0.93      0.95      0.94        44\n",
      "           7       0.90      0.90      0.90        50\n",
      "           8       0.90      0.79      0.84        56\n",
      "           9       0.90      0.85      0.88        55\n",
      "\n",
      "   micro avg       0.90      0.90      0.90       500\n",
      "   macro avg       0.90      0.90      0.90       500\n",
      "weighted avg       0.91      0.90      0.90       500\n",
      "\n"
     ]
    }
   ],
   "source": [
    "print(metrics.classification_report(y_test, y_pred))"
   ]
  },
  {
   "cell_type": "markdown",
   "metadata": {},
   "source": [
    "Можно заметить, что цифру 8 обладает наименьшей полнотой (т.е. классификатор достаточно часто ошибочно не идентифицирует эту цифру), а цифра 5 обладает наименьшей точностью (модель часто ошибочно ее назначает)."
   ]
  },
  {
   "cell_type": "markdown",
   "metadata": {},
   "source": [
    "Матрица ошибок - это матрица, элемент которой $M_{ij}$ равен числу экземпляров класса $i$, которые классификатор пометил как класс $j$. "
   ]
  },
  {
   "cell_type": "code",
   "execution_count": 32,
   "metadata": {},
   "outputs": [
    {
     "name": "stdout",
     "output_type": "stream",
     "text": [
      "[[45  0  0  1  0  0  1  0  0  0]\n",
      " [ 0 51  0  0  0  0  0  0  1  0]\n",
      " [ 0  0 45  0  1  0  1  0  1  0]\n",
      " [ 0  1  1 45  0  2  0  2  0  0]\n",
      " [ 0  0  1  0 57  0  1  0  0  2]\n",
      " [ 1  3  0  1  0 31  0  0  0  0]\n",
      " [ 0  0  0  0  0  0 42  0  2  0]\n",
      " [ 0  2  1  0  0  0  0 45  0  2]\n",
      " [ 0  2  1  2  2  3  0  1 44  1]\n",
      " [ 0  1  1  2  0  1  0  2  1 47]]\n"
     ]
    }
   ],
   "source": [
    "print(metrics.confusion_matrix(y_test, y_pred))"
   ]
  },
  {
   "cell_type": "markdown",
   "metadata": {},
   "source": [
    "В целом, здесь нет сильно выделяющихся значений, максимум цифра 5 была перепутана с цифрой 1 3 раза, также как цифра 8 с цифрой 5.\n",
    "\n",
    "Отметим, что имея эту матрицу можно вычислить точность и полноту:\n",
    "\\begin{equation*}\n",
    "precision_i = \\frac{M_{ii}}{\\sum_j M_{ji}}\n",
    "\\end{equation*}\n",
    "т.е. пропорция диагонального элемента к сумме $i$-го столбца.\n",
    "\\begin{equation*}\n",
    "recall_i = \\frac{M_{ii}}{\\sum_j M_{ij}}\n",
    "\\end{equation*}\n",
    "т.е. пропорция диагонального элемента к сумме $i$-ой строки.\n"
   ]
  },
  {
   "cell_type": "code",
   "execution_count": 35,
   "metadata": {},
   "outputs": [
    {
     "name": "stdout",
     "output_type": "stream",
     "text": [
      "Precision  [0.98 0.85 0.9  0.88 0.95 0.84 0.93 0.9  0.9  0.9 ]\n",
      "Recall  [0.96 0.98 0.94 0.88 0.93 0.86 0.95 0.9  0.79 0.85]\n"
     ]
    }
   ],
   "source": [
    "M = metrics.confusion_matrix(y_test, y_pred)\n",
    "print(\"Precision \", np.round(M.diagonal() / M.sum(axis=0), 2))\n",
    "print(\"Recall \", np.round(M.diagonal() / M.sum(axis=1), 2))\n"
   ]
  },
  {
   "cell_type": "markdown",
   "metadata": {},
   "source": [
    "Рассмотрим примеры перепутываемых цифр, например, 8, перепутанную с 5."
   ]
  },
  {
   "cell_type": "code",
   "execution_count": 36,
   "metadata": {},
   "outputs": [
    {
     "data": {
      "text/plain": [
       "<matplotlib.image.AxesImage at 0x7fe930af5c88>"
      ]
     },
     "execution_count": 36,
     "metadata": {},
     "output_type": "execute_result"
    },
    {
     "data": {
      "image/png": "[encoded data removed]",
      "text/plain": [
       "<Figure size 432x288 with 1 Axes>"
      ]
     },
     "metadata": {},
     "output_type": "display_data"
    }
   ],
   "source": [
    "digit = X_test[(y_test == 8) & (y_pred == 5)][0]\n",
    "plt.imshow(digit.reshape(28,28), cmap=plt.cm.gray_r)"
   ]
  },
  {
   "cell_type": "markdown",
   "metadata": {},
   "source": [
    "9 c 1"
   ]
  },
  {
   "cell_type": "code",
   "execution_count": 37,
   "metadata": {},
   "outputs": [
    {
     "data": {
      "text/plain": [
       "<matplotlib.image.AxesImage at 0x7fe8d8a45c50>"
      ]
     },
     "execution_count": 37,
     "metadata": {},
     "output_type": "execute_result"
    },
    {
     "data": {
      "image/png": "[encoded data removed]",
      "text/plain": [
       "<Figure size 432x288 with 1 Axes>"
      ]
     },
     "metadata": {},
     "output_type": "display_data"
    }
   ],
   "source": [
    "digit = X_test[(y_test == 9) & (y_pred == 1)][0]\n",
    "plt.imshow(digit.reshape(28,28), cmap=plt.cm.gray_r)"
   ]
  },
  {
   "cell_type": "markdown",
   "metadata": {},
   "source": [
    "Попробуем также другие классификаторы, в частности SVM с RBF-ядром. В данном случае необходимо искать подходящее значение параметра $\\gamma$, которое даст необходимый баланс между обобщаемостью и гибкостью модели (см. лекцию). Туториал будет обновлен под автоматический поиск позднее, но лучшее найденное значение на семинаре было 0.04."
   ]
  },
  {
   "cell_type": "code",
   "execution_count": 38,
   "metadata": {},
   "outputs": [],
   "source": [
    "svc = svm.SVC(gamma = 0.04)\n",
    "# X -= X.mean(axis=0)\n",
    "svc.fit(X_train, y_train)\n",
    "\n",
    "\n",
    "y_pred = svc.predict(X_test)"
   ]
  },
  {
   "cell_type": "code",
   "execution_count": 39,
   "metadata": {
    "scrolled": false
   },
   "outputs": [
    {
     "name": "stdout",
     "output_type": "stream",
     "text": [
      "0.958\n",
      "              precision    recall  f1-score   support\n",
      "\n",
      "           0       0.98      0.98      0.98        47\n",
      "           1       0.98      0.98      0.98        52\n",
      "           2       0.96      0.98      0.97        48\n",
      "           3       0.93      0.98      0.95        51\n",
      "           4       0.94      0.98      0.96        61\n",
      "           5       0.94      0.94      0.94        36\n",
      "           6       0.95      0.95      0.95        44\n",
      "           7       0.98      0.94      0.96        50\n",
      "           8       0.96      0.95      0.95        56\n",
      "           9       0.96      0.89      0.92        55\n",
      "\n",
      "   micro avg       0.96      0.96      0.96       500\n",
      "   macro avg       0.96      0.96      0.96       500\n",
      "weighted avg       0.96      0.96      0.96       500\n",
      "\n",
      "[[46  0  0  1  0  0  0  0  0  0]\n",
      " [ 0 51  0  0  0  1  0  0  0  0]\n",
      " [ 0  0 47  0  0  0  0  0  1  0]\n",
      " [ 0  0  1 50  0  0  0  0  0  0]\n",
      " [ 0  0  0  0 60  0  1  0  0  0]\n",
      " [ 1  1  0  0  0 34  0  0  0  0]\n",
      " [ 0  0  0  0  0  1 42  0  1  0]\n",
      " [ 0  0  0  0  1  0  0 47  0  2]\n",
      " [ 0  0  0  2  1  0  0  0 53  0]\n",
      " [ 0  0  1  1  2  0  1  1  0 49]]\n"
     ]
    }
   ],
   "source": [
    "print(metrics.accuracy_score(y_test, y_pred))\n",
    "print(metrics.classification_report(y_test, y_pred))\n",
    "print(metrics.confusion_matrix(y_test, y_pred))"
   ]
  },
  {
   "cell_type": "markdown",
   "metadata": {},
   "source": [
    "Напоследок, натренируем нейронную сеть, используя библиотеку Keras. Данная сеть имеет два скрытых слоя по 300 и 200 элементов и $relu(x) = max(x,0)$ активациями. $softmax$ слой используется для получения распределения вероятностей, также как в мультиномиальной логистической регрессии. keras.utils.to_categorical используется для преобразования y_train в one-hot кодировки (аналогично OneHotEncoder в туториале про pandas)."
   ]
  },
  {
   "cell_type": "code",
   "execution_count": 78,
   "metadata": {},
   "outputs": [],
   "source": [
    "nn = models.Sequential()\n",
    "nn.add(layers.Dense(units=300,activation='relu', input_dim=784))\n",
    "nn.add(layers.Dense(units=200,activation='relu'))\n",
    "\n",
    "nn.add(layers.Dense(units=10, activation='softmax'))\n",
    "\n",
    "y_train_oh = utils.to_categorical(y_train, 10)\n",
    "nn.compile(optimizer='adagrad', loss='categorical_crossentropy')"
   ]
  },
  {
   "cell_type": "code",
   "execution_count": 79,
   "metadata": {},
   "outputs": [
    {
     "name": "stdout",
     "output_type": "stream",
     "text": [
      "Epoch 1/40\n",
      " - 1s - loss: 0.7971\n",
      "Epoch 2/40\n",
      " - 0s - loss: 0.2455\n",
      "Epoch 3/40\n",
      " - 0s - loss: 0.1555\n",
      "Epoch 4/40\n",
      " - 0s - loss: 0.1048\n",
      "Epoch 5/40\n",
      " - 0s - loss: 0.0772\n",
      "Epoch 6/40\n",
      " - 0s - loss: 0.0574\n",
      "Epoch 7/40\n",
      " - 0s - loss: 0.0426\n",
      "Epoch 8/40\n",
      " - 0s - loss: 0.0323\n",
      "Epoch 9/40\n",
      " - 0s - loss: 0.0246\n",
      "Epoch 10/40\n",
      " - 0s - loss: 0.0192\n",
      "Epoch 11/40\n",
      " - 0s - loss: 0.0158\n",
      "Epoch 12/40\n",
      " - 0s - loss: 0.0129\n",
      "Epoch 13/40\n",
      " - 0s - loss: 0.0107\n",
      "Epoch 14/40\n",
      " - 0s - loss: 0.0091\n",
      "Epoch 15/40\n",
      " - 0s - loss: 0.0078\n",
      "Epoch 16/40\n",
      " - 0s - loss: 0.0068\n",
      "Epoch 17/40\n",
      " - 0s - loss: 0.0061\n",
      "Epoch 18/40\n",
      " - 0s - loss: 0.0054\n",
      "Epoch 19/40\n",
      " - 0s - loss: 0.0049\n",
      "Epoch 20/40\n",
      " - 0s - loss: 0.0045\n",
      "Epoch 21/40\n",
      " - 0s - loss: 0.0040\n",
      "Epoch 22/40\n",
      " - 0s - loss: 0.0037\n",
      "Epoch 23/40\n",
      " - 0s - loss: 0.0034\n",
      "Epoch 24/40\n",
      " - 0s - loss: 0.0032\n",
      "Epoch 25/40\n",
      " - 0s - loss: 0.0030\n",
      "Epoch 26/40\n",
      " - 0s - loss: 0.0028\n",
      "Epoch 27/40\n",
      " - 0s - loss: 0.0026\n",
      "Epoch 28/40\n",
      " - 0s - loss: 0.0024\n",
      "Epoch 29/40\n",
      " - 0s - loss: 0.0023\n",
      "Epoch 30/40\n",
      " - 0s - loss: 0.0022\n",
      "Epoch 31/40\n",
      " - 0s - loss: 0.0021\n",
      "Epoch 32/40\n",
      " - 0s - loss: 0.0019\n",
      "Epoch 33/40\n",
      " - 0s - loss: 0.0018\n",
      "Epoch 34/40\n",
      " - 0s - loss: 0.0018\n",
      "Epoch 35/40\n",
      " - 0s - loss: 0.0017\n",
      "Epoch 36/40\n",
      " - 0s - loss: 0.0016\n",
      "Epoch 37/40\n",
      " - 0s - loss: 0.0015\n",
      "Epoch 38/40\n",
      " - 0s - loss: 0.0015\n",
      "Epoch 39/40\n",
      " - 0s - loss: 0.0014\n",
      "Epoch 40/40\n",
      " - 0s - loss: 0.0013\n"
     ]
    },
    {
     "data": {
      "text/plain": [
       "<keras.callbacks.History at 0x7fe8dd9f1fd0>"
      ]
     },
     "execution_count": 79,
     "metadata": {},
     "output_type": "execute_result"
    }
   ],
   "source": [
    "nn.fit(X_train,y_train_oh,batch_size=64,epochs=40,verbose=2)"
   ]
  },
  {
   "cell_type": "code",
   "execution_count": 80,
   "metadata": {},
   "outputs": [
    {
     "name": "stdout",
     "output_type": "stream",
     "text": [
      "[9 0 8 8 1 3 2 5 7 4 8 8 0 3 8 0 0 2 4 1 9 0 9 2 0 5 4 3 8 8 6 5 8 3 5 0 6\n",
      " 4 4 4 8 1 2 6 9 1 6 3 3 0 6 3 4 6 2 9 4 3 6 7 7 4 5 7 2 1 8 0 1 9 4 4 4 8\n",
      " 4 3 9 2 2 7 1 7 8 9 9 5 8 7 4 6 9 4 4 8 9 5 6 6 6 9 4 4 2 1 9 2 0 0 3 6 4\n",
      " 1 2 1 8 6 7 4 5 8 1 9 1 6 3 4 5 6 0 5 1 0 1 2 8 0 6 5 4 6 7 5 2 0 8 1 9 2\n",
      " 8 1 3 7 8 8 8 1 2 4 8 3 0 2 7 8 9 2 2 7 8 9 5 3 6 9 3 0 2 1 3 2 5 3 4 4 4\n",
      " 5 9 6 5 7 9 8 3 9 4 0 8 1 0 2 2 3 9 4 0 5 7 6 2 7 7 8 1 0 7 3 3 4 4 5 3 6\n",
      " 4 7 2 8 1 9 7 6 1 0 9 3 1 4 7 1 9 4 4 0 2 8 2 6 7 0 0 7 7 8 9 7 8 7 9 9 3\n",
      " 0 4 4 0 9 3 9 5 7 5 0 7 5 1 6 2 1 7 9 4 8 4 8 7 7 9 5 0 6 6 1 9 3 9 8 6 1\n",
      " 9 6 7 8 2 5 9 9 2 2 1 2 2 0 9 9 4 2 8 4 9 7 3 3 3 1 9 3 7 6 5 6 0 2 6 1 3\n",
      " 2 4 6 8 0 8 2 4 2 2 7 1 1 9 3 9 7 4 4 4 8 8 9 5 2 3 9 4 5 2 6 6 8 6 3 7 0\n",
      " 4 9 7 1 3 1 0 0 5 1 1 4 9 3 5 5 3 6 4 9 2 0 8 1 1 2 0 3 9 4 3 5 3 6 3 7 1\n",
      " 8 7 0 0 1 1 2 9 3 5 4 1 5 8 6 3 7 3 8 7 1 7 0 1 1 1 5 0 3 4 4 8 4 1 0 7 0\n",
      " 2 6 8 9 7 6 4 6 3 5 6 4 1 4 4 4 3 0 3 7 1 9 3 5 1 7 2 3 3 1 6 4 8 4 1 0 8\n",
      " 9 8 9 9 6 2 1 1 8 0 3 0 8 1 8 4 8 7 8]\n",
      "              precision    recall  f1-score   support\n",
      "\n",
      "           0       0.98      0.98      0.98        47\n",
      "           1       0.91      0.98      0.94        52\n",
      "           2       1.00      0.96      0.98        48\n",
      "           3       0.92      0.94      0.93        51\n",
      "           4       0.95      0.97      0.96        61\n",
      "           5       0.91      0.89      0.90        36\n",
      "           6       0.95      0.95      0.95        44\n",
      "           7       0.98      0.92      0.95        50\n",
      "           8       0.91      0.91      0.91        56\n",
      "           9       0.93      0.93      0.93        55\n",
      "\n",
      "   micro avg       0.94      0.94      0.94       500\n",
      "   macro avg       0.94      0.94      0.94       500\n",
      "weighted avg       0.94      0.94      0.94       500\n",
      "\n",
      "0.944\n"
     ]
    }
   ],
   "source": [
    "y_pred = nn.predict(X_test)\n",
    "y_pred = y_pred.argmax(axis=1)\n",
    "print(y_pred)\n",
    "print(metrics.classification_report(y_test, y_pred))\n",
    "print(metrics.accuracy_score(y_test, y_pred))"
   ]
  },
  {
   "cell_type": "code",
   "execution_count": null,
   "metadata": {},
   "outputs": [],
   "source": []
  }
 ],
 "metadata": {
  "kernelspec": {
   "display_name": "Python 3",
   "language": "python",
   "name": "python3"
  },
  "language_info": {
   "codemirror_mode": {
    "name": "ipython",
    "version": 3
   },
   "file_extension": ".py",
   "mimetype": "text/x-python",
   "name": "python",
   "nbconvert_exporter": "python",
   "pygments_lexer": "ipython3",
   "version": "3.6.4"
  }
 },
 "nbformat": 4,
 "nbformat_minor": 2
}
